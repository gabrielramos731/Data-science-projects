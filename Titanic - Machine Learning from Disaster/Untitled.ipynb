{
 "cells": [
  {
   "cell_type": "markdown",
   "id": "9d136e35-9cd3-493b-8f77-051e38099a05",
   "metadata": {},
   "source": [
    "# Titanic classification model competition"
   ]
  },
  {
   "cell_type": "markdown",
   "id": "cbcccd20-4e79-42a0-93b1-914a9843698f",
   "metadata": {},
   "source": [
    "## Importing libraries"
   ]
  },
  {
   "cell_type": "code",
   "execution_count": 1,
   "id": "0e4f47bf-b415-4038-ad8b-d82cbfcf872e",
   "metadata": {},
   "outputs": [],
   "source": [
    "import pandas as pd\n",
    "import numpy as np\n",
    "import matplotlib.pyplot as plt\n",
    "import seaborn as sns\n",
    "from sklearn.model_selection import train_test_split\n",
    "from sklearn.neighbors import KNeighborsClassifier"
   ]
  },
  {
   "cell_type": "markdown",
   "id": "ae66c98a-53d0-4c12-ad17-0a7755f8b7f7",
   "metadata": {},
   "source": [
    "In this competition, we will try to build, train and deploy a classification model to predicts wheter a passanger survivied or not, given a data set with some features and chacteristics about the passangers."
   ]
  },
  {
   "cell_type": "markdown",
   "id": "fee2c7e4-cb1b-46be-85cf-220b7e6227b1",
   "metadata": {},
   "source": [
    "## Importing data"
   ]
  },
  {
   "cell_type": "code",
   "execution_count": null,
   "id": "0f690f3c-78e9-4fa0-b8e7-fdcc099b3a4b",
   "metadata": {},
   "outputs": [],
   "source": [
    "df_raw = pd.read_csv(r'')"
   ]
  }
 ],
 "metadata": {
  "kernelspec": {
   "display_name": "Python 3 (ipykernel)",
   "language": "python",
   "name": "python3"
  },
  "language_info": {
   "codemirror_mode": {
    "name": "ipython",
    "version": 3
   },
   "file_extension": ".py",
   "mimetype": "text/x-python",
   "name": "python",
   "nbconvert_exporter": "python",
   "pygments_lexer": "ipython3",
   "version": "3.9.13"
  }
 },
 "nbformat": 4,
 "nbformat_minor": 5
}
