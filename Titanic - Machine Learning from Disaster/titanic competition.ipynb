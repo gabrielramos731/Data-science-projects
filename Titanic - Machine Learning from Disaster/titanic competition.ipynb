{
 "cells": [
  {
   "cell_type": "markdown",
   "id": "67aad999-cf68-4219-9684-08a423d424c5",
   "metadata": {
    "tags": []
   },
   "source": [
    "# Titanic classification model competition"
   ]
  },
  {
   "cell_type": "markdown",
   "id": "76d5ab2f-67df-4171-b492-e384cd09971d",
   "metadata": {},
   "source": [
    "## Importing libraries"
   ]
  },
  {
   "cell_type": "code",
   "execution_count": 1,
   "id": "f72febb4-34b0-48ed-b89c-4d0b73fb3c16",
   "metadata": {},
   "outputs": [],
   "source": [
    "import pandas as pd\n",
    "import numpy as np\n",
    "import matplotlib.pyplot as plt\n",
    "import seaborn as sns\n",
    "from sklearn.neighbors import KNeighborsClassifier\n",
    "from sklearn.feature_selection import SequentialFeatureSelector\n",
    "from sklearn.model_selection import KFold, cross_val_score, StratifiedKFold, train_test_split\n",
    "from sklearn.tree import DecisionTreeClassifier\n",
    "from sklearn.naive_bayes import GaussianNB"
   ]
  },
  {
   "cell_type": "markdown",
   "id": "ef14924f-2117-4b65-b061-31e37b9b9c74",
   "metadata": {},
   "source": [
    "In this competition, I will try to build, train and deploy a classification model to predicts wheter a passanger survivied or not, given a data set with some features and chacteristics about the passangers."
   ]
  },
  {
   "cell_type": "markdown",
   "id": "a8196a4c-0547-486c-9c99-ca5ea85c93b0",
   "metadata": {},
   "source": [
    "## Importing data"
   ]
  },
  {
   "cell_type": "code",
   "execution_count": 2,
   "id": "c9d00d17-fb23-4c97-81bf-ff9f5bbd122f",
   "metadata": {},
   "outputs": [],
   "source": [
    "df_raw_train = pd.read_csv('https://raw.githubusercontent.com/gabrielramos731/Data-science-projects/main/Titanic%20-%20Machine%20Learning%20from%20Disaster/data/train.csv')\n",
    "df_raw_test = pd.read_csv('https://raw.githubusercontent.com/gabrielramos731/Data-science-projects/main/Titanic%20-%20Machine%20Learning%20from%20Disaster/data/test.csv')"
   ]
  },
  {
   "cell_type": "code",
   "execution_count": 3,
   "id": "08dcee29-a388-460f-848d-4014cb2d5e5a",
   "metadata": {},
   "outputs": [
    {
     "data": {
      "text/html": [
       "<div>\n",
       "<style scoped>\n",
       "    .dataframe tbody tr th:only-of-type {\n",
       "        vertical-align: middle;\n",
       "    }\n",
       "\n",
       "    .dataframe tbody tr th {\n",
       "        vertical-align: top;\n",
       "    }\n",
       "\n",
       "    .dataframe thead th {\n",
       "        text-align: right;\n",
       "    }\n",
       "</style>\n",
       "<table border=\"1\" class=\"dataframe\">\n",
       "  <thead>\n",
       "    <tr style=\"text-align: right;\">\n",
       "      <th></th>\n",
       "      <th>PassengerId</th>\n",
       "      <th>Survived</th>\n",
       "      <th>Pclass</th>\n",
       "      <th>Name</th>\n",
       "      <th>Sex</th>\n",
       "      <th>Age</th>\n",
       "      <th>SibSp</th>\n",
       "      <th>Parch</th>\n",
       "      <th>Ticket</th>\n",
       "      <th>Fare</th>\n",
       "      <th>Cabin</th>\n",
       "      <th>Embarked</th>\n",
       "    </tr>\n",
       "  </thead>\n",
       "  <tbody>\n",
       "    <tr>\n",
       "      <th>0</th>\n",
       "      <td>1</td>\n",
       "      <td>0</td>\n",
       "      <td>3</td>\n",
       "      <td>Braund, Mr. Owen Harris</td>\n",
       "      <td>male</td>\n",
       "      <td>22.0</td>\n",
       "      <td>1</td>\n",
       "      <td>0</td>\n",
       "      <td>A/5 21171</td>\n",
       "      <td>7.2500</td>\n",
       "      <td>NaN</td>\n",
       "      <td>S</td>\n",
       "    </tr>\n",
       "    <tr>\n",
       "      <th>1</th>\n",
       "      <td>2</td>\n",
       "      <td>1</td>\n",
       "      <td>1</td>\n",
       "      <td>Cumings, Mrs. John Bradley (Florence Briggs Th...</td>\n",
       "      <td>female</td>\n",
       "      <td>38.0</td>\n",
       "      <td>1</td>\n",
       "      <td>0</td>\n",
       "      <td>PC 17599</td>\n",
       "      <td>71.2833</td>\n",
       "      <td>C85</td>\n",
       "      <td>C</td>\n",
       "    </tr>\n",
       "    <tr>\n",
       "      <th>2</th>\n",
       "      <td>3</td>\n",
       "      <td>1</td>\n",
       "      <td>3</td>\n",
       "      <td>Heikkinen, Miss. Laina</td>\n",
       "      <td>female</td>\n",
       "      <td>26.0</td>\n",
       "      <td>0</td>\n",
       "      <td>0</td>\n",
       "      <td>STON/O2. 3101282</td>\n",
       "      <td>7.9250</td>\n",
       "      <td>NaN</td>\n",
       "      <td>S</td>\n",
       "    </tr>\n",
       "    <tr>\n",
       "      <th>3</th>\n",
       "      <td>4</td>\n",
       "      <td>1</td>\n",
       "      <td>1</td>\n",
       "      <td>Futrelle, Mrs. Jacques Heath (Lily May Peel)</td>\n",
       "      <td>female</td>\n",
       "      <td>35.0</td>\n",
       "      <td>1</td>\n",
       "      <td>0</td>\n",
       "      <td>113803</td>\n",
       "      <td>53.1000</td>\n",
       "      <td>C123</td>\n",
       "      <td>S</td>\n",
       "    </tr>\n",
       "    <tr>\n",
       "      <th>4</th>\n",
       "      <td>5</td>\n",
       "      <td>0</td>\n",
       "      <td>3</td>\n",
       "      <td>Allen, Mr. William Henry</td>\n",
       "      <td>male</td>\n",
       "      <td>35.0</td>\n",
       "      <td>0</td>\n",
       "      <td>0</td>\n",
       "      <td>373450</td>\n",
       "      <td>8.0500</td>\n",
       "      <td>NaN</td>\n",
       "      <td>S</td>\n",
       "    </tr>\n",
       "  </tbody>\n",
       "</table>\n",
       "</div>"
      ],
      "text/plain": [
       "   PassengerId  Survived  Pclass  \\\n",
       "0            1         0       3   \n",
       "1            2         1       1   \n",
       "2            3         1       3   \n",
       "3            4         1       1   \n",
       "4            5         0       3   \n",
       "\n",
       "                                                Name     Sex   Age  SibSp  \\\n",
       "0                            Braund, Mr. Owen Harris    male  22.0      1   \n",
       "1  Cumings, Mrs. John Bradley (Florence Briggs Th...  female  38.0      1   \n",
       "2                             Heikkinen, Miss. Laina  female  26.0      0   \n",
       "3       Futrelle, Mrs. Jacques Heath (Lily May Peel)  female  35.0      1   \n",
       "4                           Allen, Mr. William Henry    male  35.0      0   \n",
       "\n",
       "   Parch            Ticket     Fare Cabin Embarked  \n",
       "0      0         A/5 21171   7.2500   NaN        S  \n",
       "1      0          PC 17599  71.2833   C85        C  \n",
       "2      0  STON/O2. 3101282   7.9250   NaN        S  \n",
       "3      0            113803  53.1000  C123        S  \n",
       "4      0            373450   8.0500   NaN        S  "
      ]
     },
     "execution_count": 3,
     "metadata": {},
     "output_type": "execute_result"
    }
   ],
   "source": [
    "df_train = df_raw_train.copy()\n",
    "df_test = df_raw_test.copy()\n",
    "df_train.head()"
   ]
  },
  {
   "cell_type": "markdown",
   "id": "3112bfec-4d44-4f0c-8a16-a9e03fa9f3cf",
   "metadata": {},
   "source": [
    "## Data info"
   ]
  },
  {
   "cell_type": "markdown",
   "id": "bd2902b1-75a8-4598-9b04-f43fb40e3a49",
   "metadata": {},
   "source": [
    "After importing our data, let's take a look at the general info about our data and some descritive statistics."
   ]
  },
  {
   "cell_type": "code",
   "execution_count": 169,
   "id": "76bcbf43-66c1-4468-b7b9-46196d4142ce",
   "metadata": {},
   "outputs": [
    {
     "data": {
      "text/html": [
       "<div>\n",
       "<style scoped>\n",
       "    .dataframe tbody tr th:only-of-type {\n",
       "        vertical-align: middle;\n",
       "    }\n",
       "\n",
       "    .dataframe tbody tr th {\n",
       "        vertical-align: top;\n",
       "    }\n",
       "\n",
       "    .dataframe thead th {\n",
       "        text-align: right;\n",
       "    }\n",
       "</style>\n",
       "<table border=\"1\" class=\"dataframe\">\n",
       "  <thead>\n",
       "    <tr style=\"text-align: right;\">\n",
       "      <th></th>\n",
       "      <th>PassengerId</th>\n",
       "      <th>Survived</th>\n",
       "      <th>Pclass</th>\n",
       "      <th>Age</th>\n",
       "      <th>SibSp</th>\n",
       "      <th>Parch</th>\n",
       "      <th>Fare</th>\n",
       "    </tr>\n",
       "  </thead>\n",
       "  <tbody>\n",
       "    <tr>\n",
       "      <th>count</th>\n",
       "      <td>891.000000</td>\n",
       "      <td>891.000000</td>\n",
       "      <td>891.000000</td>\n",
       "      <td>714.000000</td>\n",
       "      <td>891.000000</td>\n",
       "      <td>891.000000</td>\n",
       "      <td>891.000000</td>\n",
       "    </tr>\n",
       "    <tr>\n",
       "      <th>mean</th>\n",
       "      <td>446.000000</td>\n",
       "      <td>0.383838</td>\n",
       "      <td>2.308642</td>\n",
       "      <td>29.699118</td>\n",
       "      <td>0.523008</td>\n",
       "      <td>0.381594</td>\n",
       "      <td>32.204208</td>\n",
       "    </tr>\n",
       "    <tr>\n",
       "      <th>std</th>\n",
       "      <td>257.353842</td>\n",
       "      <td>0.486592</td>\n",
       "      <td>0.836071</td>\n",
       "      <td>14.526497</td>\n",
       "      <td>1.102743</td>\n",
       "      <td>0.806057</td>\n",
       "      <td>49.693429</td>\n",
       "    </tr>\n",
       "    <tr>\n",
       "      <th>min</th>\n",
       "      <td>1.000000</td>\n",
       "      <td>0.000000</td>\n",
       "      <td>1.000000</td>\n",
       "      <td>0.420000</td>\n",
       "      <td>0.000000</td>\n",
       "      <td>0.000000</td>\n",
       "      <td>0.000000</td>\n",
       "    </tr>\n",
       "    <tr>\n",
       "      <th>25%</th>\n",
       "      <td>223.500000</td>\n",
       "      <td>0.000000</td>\n",
       "      <td>2.000000</td>\n",
       "      <td>20.125000</td>\n",
       "      <td>0.000000</td>\n",
       "      <td>0.000000</td>\n",
       "      <td>7.910400</td>\n",
       "    </tr>\n",
       "    <tr>\n",
       "      <th>50%</th>\n",
       "      <td>446.000000</td>\n",
       "      <td>0.000000</td>\n",
       "      <td>3.000000</td>\n",
       "      <td>28.000000</td>\n",
       "      <td>0.000000</td>\n",
       "      <td>0.000000</td>\n",
       "      <td>14.454200</td>\n",
       "    </tr>\n",
       "    <tr>\n",
       "      <th>75%</th>\n",
       "      <td>668.500000</td>\n",
       "      <td>1.000000</td>\n",
       "      <td>3.000000</td>\n",
       "      <td>38.000000</td>\n",
       "      <td>1.000000</td>\n",
       "      <td>0.000000</td>\n",
       "      <td>31.000000</td>\n",
       "    </tr>\n",
       "    <tr>\n",
       "      <th>max</th>\n",
       "      <td>891.000000</td>\n",
       "      <td>1.000000</td>\n",
       "      <td>3.000000</td>\n",
       "      <td>80.000000</td>\n",
       "      <td>8.000000</td>\n",
       "      <td>6.000000</td>\n",
       "      <td>512.329200</td>\n",
       "    </tr>\n",
       "  </tbody>\n",
       "</table>\n",
       "</div>"
      ],
      "text/plain": [
       "       PassengerId    Survived      Pclass         Age       SibSp  \\\n",
       "count   891.000000  891.000000  891.000000  714.000000  891.000000   \n",
       "mean    446.000000    0.383838    2.308642   29.699118    0.523008   \n",
       "std     257.353842    0.486592    0.836071   14.526497    1.102743   \n",
       "min       1.000000    0.000000    1.000000    0.420000    0.000000   \n",
       "25%     223.500000    0.000000    2.000000   20.125000    0.000000   \n",
       "50%     446.000000    0.000000    3.000000   28.000000    0.000000   \n",
       "75%     668.500000    1.000000    3.000000   38.000000    1.000000   \n",
       "max     891.000000    1.000000    3.000000   80.000000    8.000000   \n",
       "\n",
       "            Parch        Fare  \n",
       "count  891.000000  891.000000  \n",
       "mean     0.381594   32.204208  \n",
       "std      0.806057   49.693429  \n",
       "min      0.000000    0.000000  \n",
       "25%      0.000000    7.910400  \n",
       "50%      0.000000   14.454200  \n",
       "75%      0.000000   31.000000  \n",
       "max      6.000000  512.329200  "
      ]
     },
     "execution_count": 169,
     "metadata": {},
     "output_type": "execute_result"
    }
   ],
   "source": [
    "df_train.describe()"
   ]
  },
  {
   "cell_type": "code",
   "execution_count": 170,
   "id": "dad75197-c309-4ff8-8573-7940deeae657",
   "metadata": {},
   "outputs": [
    {
     "name": "stdout",
     "output_type": "stream",
     "text": [
      "<class 'pandas.core.frame.DataFrame'>\n",
      "RangeIndex: 891 entries, 0 to 890\n",
      "Data columns (total 12 columns):\n",
      " #   Column       Non-Null Count  Dtype  \n",
      "---  ------       --------------  -----  \n",
      " 0   PassengerId  891 non-null    int64  \n",
      " 1   Survived     891 non-null    int64  \n",
      " 2   Pclass       891 non-null    int64  \n",
      " 3   Name         891 non-null    object \n",
      " 4   Sex          891 non-null    object \n",
      " 5   Age          714 non-null    float64\n",
      " 6   SibSp        891 non-null    int64  \n",
      " 7   Parch        891 non-null    int64  \n",
      " 8   Ticket       891 non-null    object \n",
      " 9   Fare         891 non-null    float64\n",
      " 10  Cabin        204 non-null    object \n",
      " 11  Embarked     889 non-null    object \n",
      "dtypes: float64(2), int64(5), object(5)\n",
      "memory usage: 83.7+ KB\n"
     ]
    }
   ],
   "source": [
    "df_train.info()"
   ]
  },
  {
   "cell_type": "markdown",
   "id": "52bbe919-86ac-4284-8957-3b8c84d658ad",
   "metadata": {},
   "source": [
    "As we can see, some columns has an expressive number of NaN values. "
   ]
  },
  {
   "cell_type": "code",
   "execution_count": 171,
   "id": "8735be09-91dc-4df6-b9d4-7c5f79427310",
   "metadata": {},
   "outputs": [
    {
     "data": {
      "text/plain": [
       "0"
      ]
     },
     "execution_count": 171,
     "metadata": {},
     "output_type": "execute_result"
    }
   ],
   "source": [
    "df_train.duplicated().sum()"
   ]
  },
  {
   "cell_type": "markdown",
   "id": "ad88b5b8-e985-4d85-ba02-0349426da547",
   "metadata": {},
   "source": [
    "There is no duplicated row in our dataset"
   ]
  },
  {
   "cell_type": "markdown",
   "id": "6d10b0df-d7c6-4492-9135-685b203bd47a",
   "metadata": {},
   "source": [
    "## Cleaning the null values"
   ]
  },
  {
   "cell_type": "markdown",
   "id": "0e05f5de-77e5-43aa-b8b2-bc37333f2cfe",
   "metadata": {},
   "source": [
    "Let's analyze the null values and take the better decision about what to do with these values."
   ]
  },
  {
   "cell_type": "code",
   "execution_count": 172,
   "id": "e6e55ff6-b1ea-4e9a-9adc-b3c496d89cc7",
   "metadata": {},
   "outputs": [
    {
     "data": {
      "text/plain": [
       "PassengerId      0\n",
       "Survived         0\n",
       "Pclass           0\n",
       "Name             0\n",
       "Sex              0\n",
       "Age            177\n",
       "SibSp            0\n",
       "Parch            0\n",
       "Ticket           0\n",
       "Fare             0\n",
       "Cabin          687\n",
       "Embarked         2\n",
       "dtype: int64"
      ]
     },
     "execution_count": 172,
     "metadata": {},
     "output_type": "execute_result"
    }
   ],
   "source": [
    "df_train.isnull().sum()"
   ]
  },
  {
   "cell_type": "markdown",
   "id": "ce6de316-39f8-4786-b2c5-e30c1d079344",
   "metadata": {},
   "source": [
    "- The 'Embarked' columns has just two NaN values, so we will complete they with his mode.\n",
    "- To clean the NaN values of 'Age', we'll complete these values with an adequate groupby operation."
   ]
  },
  {
   "cell_type": "code",
   "execution_count": 173,
   "id": "f2df6d99-448a-4e43-9501-14d03d1604d0",
   "metadata": {},
   "outputs": [
    {
     "name": "stdout",
     "output_type": "stream",
     "text": [
      "S    644\n",
      "C    168\n",
      "Q     77\n",
      "Name: Embarked, dtype: int64\n",
      "S    270\n",
      "C    102\n",
      "Q     46\n",
      "Name: Embarked, dtype: int64\n"
     ]
    }
   ],
   "source": [
    "# complete the two values of 'Embarked' mode\n",
    "print(df_train['Embarked'].value_counts())\n",
    "print(df_test['Embarked'].value_counts())"
   ]
  },
  {
   "cell_type": "code",
   "execution_count": 174,
   "id": "de94de80-664f-4ba9-84b6-e05d8fd10b10",
   "metadata": {},
   "outputs": [],
   "source": [
    "df_train.loc[df_train['Embarked'].isna(), ['Embarked']] = 'S'\n",
    "df_test.loc[df_train['Embarked'].isna(), ['Embarked']] = 'S'"
   ]
  },
  {
   "cell_type": "markdown",
   "id": "0aa455dc-0024-411d-aae1-361fec73f1b0",
   "metadata": {},
   "source": [
    "The NaN values from 'Age' column will be completed with the mean of 'Age', grouped by 'Sex', 'Pclass' and 'Embarked' variables."
   ]
  },
  {
   "cell_type": "code",
   "execution_count": 175,
   "id": "14b75065-a8d7-494c-b86b-074ee64a4874",
   "metadata": {},
   "outputs": [
    {
     "data": {
      "text/plain": [
       "PassengerId      0\n",
       "Survived         0\n",
       "Pclass           0\n",
       "Name             0\n",
       "Sex              0\n",
       "Age              0\n",
       "SibSp            0\n",
       "Parch            0\n",
       "Ticket           0\n",
       "Fare             0\n",
       "Cabin          687\n",
       "Embarked         0\n",
       "dtype: int64"
      ]
     },
     "execution_count": 175,
     "metadata": {},
     "output_type": "execute_result"
    }
   ],
   "source": [
    "# Complete NaN values from 'Age'\n",
    "df_train['Age'] = df_train.groupby(['Sex','Pclass','Embarked'])['Age'].transform(lambda x: x.mean())\n",
    "df_test['Age'] = df_train.groupby(['Sex','Pclass','Embarked'])['Age'].transform(lambda x: x.mean())\n",
    "df_train.isna().sum()"
   ]
  },
  {
   "cell_type": "markdown",
   "id": "57e51767-3198-4dc5-a970-43e668af008f",
   "metadata": {},
   "source": [
    "## Transforming the data"
   ]
  },
  {
   "cell_type": "markdown",
   "id": "ed3d8834-fb9e-4ea4-9764-5e30f1b0897f",
   "metadata": {},
   "source": [
    "I'll not use the 'Name', 'Ticket' and 'Cabin' columns in models because they may not have importance in the predictions\n",
    "\n",
    "The 'Sex' variable we can simply use the map due to there are just two values with no hierarch\n",
    "\n",
    "The 'Embarked' variable we'll use dummies variables to not cause bias in our model."
   ]
  },
  {
   "cell_type": "code",
   "execution_count": 176,
   "id": "5a1499a2-b192-408a-a153-0270311d5157",
   "metadata": {},
   "outputs": [],
   "source": [
    "df_train = df_train.drop(['PassengerId', 'Name', 'Ticket', 'Cabin'], axis=1)\n",
    "df_train['Sex'] = df_train['Sex'].map({'male':1, 'female':0})\n",
    "df_train = pd.get_dummies(df_train, prefix='Embarked', prefix_sep='_')\n",
    "\n",
    "# Applying the same transformations on the test data\n",
    "\n",
    "df_test = df_test.drop(['PassengerId', 'Name', 'Ticket', 'Cabin'], axis=1)\n",
    "df_test['Sex'] = df_test['Sex'].map({'male':1, 'female':0})\n",
    "df_test = pd.get_dummies(df_test, prefix='Embarked', prefix_sep='_')"
   ]
  },
  {
   "cell_type": "markdown",
   "id": "f9801131-f3f4-4553-9a6a-20f6cf65e4a2",
   "metadata": {},
   "source": [
    "## Correlationships"
   ]
  },
  {
   "cell_type": "code",
   "execution_count": 177,
   "id": "ad34ac03-c4c3-408c-8d2a-a077ce9e245a",
   "metadata": {},
   "outputs": [
    {
     "data": {
      "text/plain": [
       "<AxesSubplot:>"
      ]
     },
     "execution_count": 177,
     "metadata": {},
     "output_type": "execute_result"
    },
    {
     "data": {
      "image/png": "[encoded data removed]",
      "text/plain": [
       "<Figure size 800x500 with 2 Axes>"
      ]
     },
     "metadata": {},
     "output_type": "display_data"
    }
   ],
   "source": [
    "plt.figure(figsize=(8,5))\n",
    "sns.heatmap(df_train.corr(), annot=True)"
   ]
  },
  {
   "cell_type": "markdown",
   "id": "34bf6862-173a-45e9-8b99-e22737e4d0cf",
   "metadata": {},
   "source": [
    "---"
   ]
  },
  {
   "cell_type": "markdown",
   "id": "72c155cf-f278-4e1d-ac41-29990eac275d",
   "metadata": {},
   "source": [
    "# Prediction models\n",
    "In this section I'm gonna build and test some classification models.\n",
    "\n",
    "To select the best model to predict the test data, I'll try some features, resources and classifiers to reach the best model."
   ]
  },
  {
   "cell_type": "markdown",
   "id": "448951c7-a3ab-4154-b48d-1ea4d6ac50d9",
   "metadata": {},
   "source": [
    "## Feature selection\n",
    "adsasda"
   ]
  },
  {
   "cell_type": "code",
   "execution_count": 178,
   "id": "3597cf13-ba7b-4d9d-bfcc-65e6d12f9e63",
   "metadata": {},
   "outputs": [],
   "source": [
    "X = df_train.iloc[:, 1:]\n",
    "y = df_train['Survived']"
   ]
  },
  {
   "cell_type": "code",
   "execution_count": 179,
   "id": "2c7d4066-ca7c-420e-882f-11d5a98530f8",
   "metadata": {},
   "outputs": [
    {
     "name": "stdout",
     "output_type": "stream",
     "text": [
      "Características selecionadas:  Index(['Sex'], dtype='object')\n",
      "Acurácia média:  0.7867290886392009\n",
      "Características selecionadas:  Index(['Sex', 'Age'], dtype='object')\n",
      "Acurácia média:  0.8114232209737828\n",
      "Características selecionadas:  Index(['Pclass', 'Sex', 'Age'], dtype='object')\n",
      "Acurácia média:  0.8114232209737828\n",
      "Características selecionadas:  Index(['Pclass', 'Sex', 'Age', 'Embarked_C'], dtype='object')\n",
      "Acurácia média:  0.8114232209737828\n",
      "Características selecionadas:  Index(['Pclass', 'Sex', 'Age', 'Embarked_C', 'Embarked_Q'], dtype='object')\n",
      "Acurácia média:  0.8114232209737828\n",
      "Características selecionadas:  Index(['Pclass', 'Sex', 'Age', 'Embarked_C', 'Embarked_Q', 'Embarked_S'], dtype='object')\n",
      "Acurácia média:  0.8114232209737828\n",
      "Características selecionadas:  Index(['Pclass', 'Sex', 'Age', 'Parch', 'Embarked_C', 'Embarked_Q',\n",
      "       'Embarked_S'],\n",
      "      dtype='object')\n",
      "Acurácia média:  0.8102996254681647\n",
      "Características selecionadas:  Index(['Pclass', 'Sex', 'Age', 'SibSp', 'Parch', 'Embarked_C', 'Embarked_Q',\n",
      "       'Embarked_S'],\n",
      "      dtype='object')\n",
      "Acurácia média:  0.8080524344569288\n"
     ]
    }
   ],
   "source": [
    "X_train, X_test, y_train, y_test = train_test_split(X, y, test_size=0.2, random_state=42)\n",
    "\n",
    "acc_values = dict()\n",
    "\n",
    "cv = KFold(n_splits=10, shuffle=True, random_state=42)\n",
    "\n",
    "for quant_var in range(1, 9):\n",
    "    tree_classifier = DecisionTreeClassifier(max_depth=3)\n",
    "\n",
    "    # Cria um objeto Sequential Feature Selector para selecionar as duas melhores características\n",
    "    sfs = SequentialFeatureSelector(tree_classifier, n_features_to_select=quant_var)\n",
    "\n",
    "    # Aplica o Sequential Feature Selector ao conjunto de dados de treino\n",
    "    X_train_sfs = sfs.fit_transform(X_train, y_train)\n",
    "\n",
    "    # Obtém o índice das características selecionadas após o último ajuste\n",
    "    selected_features_idx = sfs.get_support(indices=True)\n",
    "\n",
    "    # Obtém os nomes das características selecionadas\n",
    "    selected_features_names = X.columns[selected_features_idx]\n",
    "\n",
    "    # Imprime as características selecionadas\n",
    "    print(\"Características selecionadas: \", selected_features_names)\n",
    "\n",
    "    values = cross_val_score(tree_classifier,\n",
    "                           df_train[selected_features_names],\n",
    "                           df_train['Survived'],\n",
    "                           cv=cv, scoring='accuracy')\n",
    "    acc_values[str(selected_features_names)] = values.mean()\n",
    "    print(\"Acurácia média: \", values.mean())"
   ]
  },
  {
   "cell_type": "code",
   "execution_count": 180,
   "id": "b337ee72-88b8-4b42-ad2b-83b7ad27b7c3",
   "metadata": {},
   "outputs": [
    {
     "name": "stdout",
     "output_type": "stream",
     "text": [
      "Index(['Sex', 'Age'], dtype='object')\n",
      "0.8114232209737828\n"
     ]
    }
   ],
   "source": [
    "for c, v in acc_values.items():\n",
    "    if (max(acc_values.values()) == v):\n",
    "        print(c)\n",
    "        print(v)\n",
    "        break"
   ]
  },
  {
   "cell_type": "code",
   "execution_count": 181,
   "id": "71f0d37e-0f75-4e6d-b01a-8e7789da29c5",
   "metadata": {},
   "outputs": [],
   "source": [
    "best_features = ['Sex', 'Age']"
   ]
  },
  {
   "cell_type": "markdown",
   "id": "bb2a707e-32cb-46cf-a1ed-554180b1c121",
   "metadata": {},
   "source": [
    "## KNN"
   ]
  },
  {
   "cell_type": "code",
   "execution_count": 182,
   "id": "21cb916d-1f2e-498d-a950-d88cd3df3480",
   "metadata": {},
   "outputs": [
    {
     "data": {
      "text/plain": [
       "0.7923470661672909"
      ]
     },
     "execution_count": 182,
     "metadata": {},
     "output_type": "execute_result"
    }
   ],
   "source": [
    "import warnings\n",
    "warnings.filterwarnings(\"ignore\")\n",
    "\n",
    "knn = KNeighborsClassifier(n_neighbors=5)\n",
    "\n",
    "cv = KFold(n_splits=10, shuffle=True, random_state=42)\n",
    "\n",
    "values_knn = cross_val_score(knn, X[best_features], y, cv=cv, scoring='accuracy')\n",
    "values_knn.mean()"
   ]
  },
  {
   "cell_type": "markdown",
   "id": "3f63eef9-c541-4026-a370-10dcdeba753a",
   "metadata": {},
   "source": [
    "## Decision Tree"
   ]
  },
  {
   "cell_type": "code",
   "execution_count": 183,
   "id": "afe83d8f-b3c7-4d5c-8b30-475ea4bdb2fe",
   "metadata": {},
   "outputs": [
    {
     "data": {
      "text/plain": [
       "0.8114232209737828"
      ]
     },
     "execution_count": 183,
     "metadata": {},
     "output_type": "execute_result"
    }
   ],
   "source": [
    "tree = DecisionTreeClassifier(max_depth=3)\n",
    "\n",
    "values_tree = cross_val_score(tree, X[best_features], y, cv=cv, scoring='accuracy')\n",
    "values_tree.mean()"
   ]
  },
  {
   "cell_type": "markdown",
   "id": "caf75e58-9d72-4b7f-a1c1-4843f9eda7f0",
   "metadata": {},
   "source": [
    "## Naive Bayes"
   ]
  },
  {
   "cell_type": "code",
   "execution_count": 184,
   "id": "03a60a0b-9578-42b7-ade0-d7d4a4b556b1",
   "metadata": {},
   "outputs": [
    {
     "data": {
      "text/plain": [
       "0.785605493133583"
      ]
     },
     "execution_count": 184,
     "metadata": {},
     "output_type": "execute_result"
    }
   ],
   "source": [
    "nb = GaussianNB()\n",
    "\n",
    "values_nb = cross_val_score(nb, X[best_features], y, cv=cv, scoring='accuracy')\n",
    "values_nb.mean()"
   ]
  },
  {
   "cell_type": "markdown",
   "id": "c74bd17c-9d3a-479f-98ab-83a4813f9114",
   "metadata": {},
   "source": [
    "# Predictions"
   ]
  },
  {
   "cell_type": "code",
   "execution_count": 185,
   "id": "6549d8d2-a2f2-4f31-be6d-9eaf581d6afb",
   "metadata": {},
   "outputs": [
    {
     "data": {
      "text/plain": [
       "Pclass        0\n",
       "Sex           0\n",
       "Age           0\n",
       "SibSp         0\n",
       "Parch         0\n",
       "Fare          1\n",
       "Embarked_C    0\n",
       "Embarked_Q    0\n",
       "Embarked_S    0\n",
       "dtype: int64"
      ]
     },
     "execution_count": 185,
     "metadata": {},
     "output_type": "execute_result"
    }
   ],
   "source": [
    "df_test.isna().sum()"
   ]
  },
  {
   "cell_type": "code",
   "execution_count": 186,
   "id": "86f77096-f55c-479b-96a9-3f862317c902",
   "metadata": {},
   "outputs": [
    {
     "data": {
      "text/html": [
       "<div>\n",
       "<style scoped>\n",
       "    .dataframe tbody tr th:only-of-type {\n",
       "        vertical-align: middle;\n",
       "    }\n",
       "\n",
       "    .dataframe tbody tr th {\n",
       "        vertical-align: top;\n",
       "    }\n",
       "\n",
       "    .dataframe thead th {\n",
       "        text-align: right;\n",
       "    }\n",
       "</style>\n",
       "<table border=\"1\" class=\"dataframe\">\n",
       "  <thead>\n",
       "    <tr style=\"text-align: right;\">\n",
       "      <th></th>\n",
       "      <th>Sex</th>\n",
       "      <th>Age</th>\n",
       "    </tr>\n",
       "  </thead>\n",
       "  <tbody>\n",
       "    <tr>\n",
       "      <th>0</th>\n",
       "      <td>1</td>\n",
       "      <td>26.574766</td>\n",
       "    </tr>\n",
       "    <tr>\n",
       "      <th>1</th>\n",
       "      <td>0</td>\n",
       "      <td>36.052632</td>\n",
       "    </tr>\n",
       "    <tr>\n",
       "      <th>2</th>\n",
       "      <td>1</td>\n",
       "      <td>23.223684</td>\n",
       "    </tr>\n",
       "    <tr>\n",
       "      <th>3</th>\n",
       "      <td>1</td>\n",
       "      <td>33.456522</td>\n",
       "    </tr>\n",
       "    <tr>\n",
       "      <th>4</th>\n",
       "      <td>0</td>\n",
       "      <td>26.574766</td>\n",
       "    </tr>\n",
       "    <tr>\n",
       "      <th>...</th>\n",
       "      <td>...</td>\n",
       "      <td>...</td>\n",
       "    </tr>\n",
       "    <tr>\n",
       "      <th>413</th>\n",
       "      <td>1</td>\n",
       "      <td>30.875889</td>\n",
       "    </tr>\n",
       "    <tr>\n",
       "      <th>414</th>\n",
       "      <td>0</td>\n",
       "      <td>26.574766</td>\n",
       "    </tr>\n",
       "    <tr>\n",
       "      <th>415</th>\n",
       "      <td>1</td>\n",
       "      <td>23.223684</td>\n",
       "    </tr>\n",
       "    <tr>\n",
       "      <th>416</th>\n",
       "      <td>1</td>\n",
       "      <td>29.719697</td>\n",
       "    </tr>\n",
       "    <tr>\n",
       "      <th>417</th>\n",
       "      <td>1</td>\n",
       "      <td>29.719697</td>\n",
       "    </tr>\n",
       "  </tbody>\n",
       "</table>\n",
       "<p>418 rows × 2 columns</p>\n",
       "</div>"
      ],
      "text/plain": [
       "     Sex        Age\n",
       "0      1  26.574766\n",
       "1      0  36.052632\n",
       "2      1  23.223684\n",
       "3      1  33.456522\n",
       "4      0  26.574766\n",
       "..   ...        ...\n",
       "413    1  30.875889\n",
       "414    0  26.574766\n",
       "415    1  23.223684\n",
       "416    1  29.719697\n",
       "417    1  29.719697\n",
       "\n",
       "[418 rows x 2 columns]"
      ]
     },
     "execution_count": 186,
     "metadata": {},
     "output_type": "execute_result"
    }
   ],
   "source": [
    "df_test[best_features]"
   ]
  },
  {
   "cell_type": "code",
   "execution_count": 187,
   "id": "86a07fff-ac2b-41d1-b682-ce93f8d4a58f",
   "metadata": {},
   "outputs": [],
   "source": [
    "df_sub = pd.DataFrame({'PassengerId': range(892, 892+418)})\n",
    "\n",
    "tree_classifier = DecisionTreeClassifier(max_depth=3)\n",
    "\n",
    "tree_classifier.fit(X[best_features], y)\n",
    "\n",
    "df_sub['Survived'] = tree_classifier.predict(df_test[best_features])"
   ]
  },
  {
   "cell_type": "code",
   "execution_count": 188,
   "id": "3c701da1-19b6-4bfd-8c06-28c087a84410",
   "metadata": {},
   "outputs": [],
   "source": [
    "df_sub.to_csv('submission.csv', index=False)"
   ]
  },
  {
   "cell_type": "code",
   "execution_count": null,
   "id": "9f39cb65-c6f1-40fb-939a-b9f2d0c596ca",
   "metadata": {},
   "outputs": [],
   "source": []
  },
  {
   "cell_type": "code",
   "execution_count": 189,
   "id": "3230187a-43b2-463f-bacc-2f8580619712",
   "metadata": {},
   "outputs": [],
   "source": [
    "from scipy.stats import chi2_contingency\n",
    "from sklearn.impute import SimpleImputer\n",
    "from sklearn.linear_model import LogisticRegression\n",
    "from sklearn.tree import DecisionTreeClassifier\n",
    "from sklearn.ensemble import RandomForestClassifier\n",
    "from xgboost.sklearn import XGBClassifier\n",
    "from sklearn.ensemble import GradientBoostingClassifier\n",
    "from lightgbm import LGBMClassifier\n",
    "from catboost import CatBoostClassifier\n",
    "from sklearn.experimental import enable_hist_gradient_boosting\n",
    "from sklearn.ensemble import HistGradientBoostingClassifier\n",
    "\n",
    "from sklearn import metrics\n",
    "from sklearn.model_selection import train_test_split\n",
    "from sklearn.model_selection import GridSearchCV"
   ]
  },
  {
   "cell_type": "code",
   "execution_count": 190,
   "id": "2c1f8ce9-515d-4de5-8bb9-51bdb6fe4c1a",
   "metadata": {},
   "outputs": [],
   "source": [
    "def find_best_model(X_train, X_test, y_train, y_test):\n",
    "    # Logistic Regression\n",
    "    logreg = LogisticRegression(max_iter = 600, random_state = 42)\n",
    "    logreg.fit(X_train, y_train)\n",
    "    y_pred = logreg.predict(X_test)\n",
    "    logreg_acc = round(metrics.accuracy_score(y_test, y_pred) * 100, 2)\n",
    "    \n",
    "    # Decision Tree\n",
    "    decision_tree = DecisionTreeClassifier(random_state = 42)\n",
    "    decision_tree.fit(X_train, y_train)\n",
    "    y_pred = decision_tree.predict(X_test)\n",
    "    decision_tree_acc = round(metrics.accuracy_score(y_test, y_pred) * 100, 2)\n",
    "    \n",
    "    # Random Forest\n",
    "    random_forest = RandomForestClassifier(random_state = 42)\n",
    "    random_forest.fit(X_train, y_train)\n",
    "    y_pred = random_forest.predict(X_test)\n",
    "    random_forest_acc = round(metrics.accuracy_score(y_test, y_pred) * 100, 2)\n",
    "    \n",
    "    # XGBoost\n",
    "    xgb = XGBClassifier(random_state = 42)\n",
    "    xgb.fit(X_train, y_train)\n",
    "    y_pred = xgb.predict(X_test)\n",
    "    xgb_acc = round(metrics.accuracy_score(y_test, y_pred) * 100, 2)\n",
    "    \n",
    "    # GBM\n",
    "    gbm = GradientBoostingClassifier(random_state = 42)\n",
    "    gbm.fit(X_train, y_train)\n",
    "    y_pred = gbm.predict(X_test)\n",
    "    gbm_acc = round(metrics.accuracy_score(y_test, y_pred) * 100, 2)\n",
    "    \n",
    "    # LightGBM\n",
    "    lgbm = LGBMClassifier(random_state = 42)\n",
    "    lgbm.fit(X_train, y_train)\n",
    "    y_pred = lgbm.predict(X_test)\n",
    "    lgbm_acc = round(metrics.accuracy_score(y_test, y_pred) * 100, 2)\n",
    "        \n",
    "    # Catboost\n",
    "    catb = CatBoostClassifier(verbose = 0, random_state = 42)\n",
    "    catb.fit(X_train, y_train)\n",
    "    y_pred = catb.predict(X_test)\n",
    "    catb_acc = round(metrics.accuracy_score(y_test, y_pred) * 100, 2)\n",
    "    \n",
    "    # Histogram-based Gradient Boosting Classification Tree\n",
    "    hgb = HistGradientBoostingClassifier(random_state = 42)\n",
    "    hgb.fit(X_train, y_train)\n",
    "    y_pred = hgb.predict(X_test)\n",
    "    hgb_acc = round(metrics.accuracy_score(y_test, y_pred) * 100, 2)\n",
    "    \n",
    "    model_df = pd.DataFrame({'Model': ['Logistic Regression', 'Decision Tree', 'Random Forest', 'XGBoost', 'GBM', 'LightGBM', 'Catboost', 'HistBoost'],\n",
    "                       'Score': [logreg_acc, decision_tree_acc, random_forest_acc, xgb_acc, gbm_acc, lgbm_acc, catb_acc, hgb_acc]})\n",
    "    print(model_df.sort_values('Score', ascending = False).reset_index(drop = True))"
   ]
  },
  {
   "cell_type": "code",
   "execution_count": 191,
   "id": "8c0203b1-4826-43aa-a751-5e094f097eaf",
   "metadata": {},
   "outputs": [
    {
     "name": "stdout",
     "output_type": "stream",
     "text": [
      "                 Model  Score\n",
      "0             Catboost  82.12\n",
      "1              XGBoost  81.01\n",
      "2        Decision Tree  80.45\n",
      "3                  GBM  80.45\n",
      "4        Random Forest  79.89\n",
      "5             LightGBM  79.33\n",
      "6            HistBoost  79.33\n",
      "7  Logistic Regression  78.21\n"
     ]
    }
   ],
   "source": [
    "X_train, X_test, y_train, y_test = train_test_split(X, y, test_size=0.2, random_state=42)\n",
    "find_best_model(X_train, X_test, y_train, y_test)"
   ]
  },
  {
   "cell_type": "code",
   "execution_count": null,
   "id": "c6cab1f7-4277-402d-b467-7edb38436a41",
   "metadata": {},
   "outputs": [],
   "source": []
  },
  {
   "cell_type": "code",
   "execution_count": 7,
   "id": "7fa42ef1-95a0-4c97-a2f7-c65304ea631d",
   "metadata": {},
   "outputs": [
    {
     "data": {
      "text/plain": [
       "0    0.616162\n",
       "1    0.383838\n",
       "Name: Survived, dtype: float64"
      ]
     },
     "execution_count": 7,
     "metadata": {},
     "output_type": "execute_result"
    }
   ],
   "source": [
    "df_train['Survived'].value_counts()/len(df_train)"
   ]
  },
  {
   "cell_type": "code",
   "execution_count": 14,
   "id": "70e08e5e-95fd-4ce9-868f-d19d9d422e8a",
   "metadata": {},
   "outputs": [],
   "source": [
    "df_train_test, df_test_test = train_test_split(df_train, test_size=.2, random_state=42, stratify=df_train['Survived'])"
   ]
  },
  {
   "cell_type": "code",
   "execution_count": 16,
   "id": "ead8d4e0-8e6e-4b24-82d1-ac8ba3ad6d54",
   "metadata": {},
   "outputs": [
    {
     "data": {
      "text/plain": [
       "0    0.616573\n",
       "1    0.383427\n",
       "Name: Survived, dtype: float64"
      ]
     },
     "execution_count": 16,
     "metadata": {},
     "output_type": "execute_result"
    }
   ],
   "source": [
    "df_train_test['Survived'].value_counts()/len(df_train_test)"
   ]
  }
 ],
 "metadata": {
  "kernelspec": {
   "display_name": "Python 3 (ipykernel)",
   "language": "python",
   "name": "python3"
  },
  "language_info": {
   "codemirror_mode": {
    "name": "ipython",
    "version": 3
   },
   "file_extension": ".py",
   "mimetype": "text/x-python",
   "name": "python",
   "nbconvert_exporter": "python",
   "pygments_lexer": "ipython3",
   "version": "3.9.13"
  }
 },
 "nbformat": 4,
 "nbformat_minor": 5
}
