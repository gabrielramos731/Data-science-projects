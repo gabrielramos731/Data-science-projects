{
  "cells": [
    {
      "cell_type": "code",
      "execution_count": 4,
      "id": "0b590e2f-b063-4ade-b8c4-12042e984390",
      "metadata": {
        "id": "0b590e2f-b063-4ade-b8c4-12042e984390"
      },
      "outputs": [],
      "source": [
        "import pandas as pd\n",
        "import numpy as np\n",
        "import matplotlib.pyplot as plt\n",
        "from sklearn.model_selection import train_test_split\n",
        "from sklearn.preprocessing import LabelEncoder\n",
        "from sklearn.tree import DecisionTreeClassifier"
      ]
    },
    {
      "cell_type": "code",
      "execution_count": null,
      "id": "140cc502-6c32-4652-92d1-35d3c863aaff",
      "metadata": {
        "id": "140cc502-6c32-4652-92d1-35d3c863aaff"
      },
      "outputs": [],
      "source": [
        "df_train_raw = pd.read_csv('data/train.csv')\n",
        "df_test_raw = pd.read_csv('data/test.csv')"
      ]
    },
    {
      "cell_type": "code",
      "execution_count": null,
      "id": "67bfe1ba-510c-4edc-8498-803768462d68",
      "metadata": {
        "id": "67bfe1ba-510c-4edc-8498-803768462d68"
      },
      "outputs": [],
      "source": [
        "df_train = df_train_raw.copy()\n",
        "df_test = df_test_raw.copy()"
      ]
    },
    {
      "cell_type": "code",
      "execution_count": null,
      "id": "f4267280-a561-4e1a-82b6-10e82ac1b60a",
      "metadata": {
        "id": "f4267280-a561-4e1a-82b6-10e82ac1b60a"
      },
      "outputs": [],
      "source": [
        "strat = df_train_raw['Transported'].copy()\n",
        "strat = strat.map({False:0, True:1})\n",
        "df_train, df_val = train_test_split(df_train_raw, stratify=strat, test_size=0.2)"
      ]
    },
    {
      "cell_type": "markdown",
      "id": "6f7eee64-ae32-46c3-8129-58633c93c3e3",
      "metadata": {
        "id": "6f7eee64-ae32-46c3-8129-58633c93c3e3"
      },
      "source": [
        "\n",
        "\n",
        "Train e validation data are well balanced"
      ]
    },
    {
      "cell_type": "code",
      "execution_count": null,
      "id": "522336e0-8f33-44ff-8601-1cec3cb9e43a",
      "metadata": {
        "id": "522336e0-8f33-44ff-8601-1cec3cb9e43a",
        "outputId": "d48db242-4415-4c89-82b9-0bb5ca0a2101"
      },
      "outputs": [
        {
          "name": "stdout",
          "output_type": "stream",
          "text": [
            "True     0.503595\n",
            "False    0.496405\n",
            "Name: Transported, dtype: float64 \n",
            "\n",
            "True     0.503738\n",
            "False    0.496262\n",
            "Name: Transported, dtype: float64 \n",
            "\n"
          ]
        }
      ],
      "source": [
        "for df in [df_train, df_val]:\n",
        "    print(df['Transported'].value_counts() / len(df), '\\n')"
      ]
    },
    {
      "cell_type": "markdown",
      "id": "37175758-cf60-43a9-bfb7-9a974bd72239",
      "metadata": {
        "id": "37175758-cf60-43a9-bfb7-9a974bd72239"
      },
      "source": [
        "# PipeLine"
      ]
    },
    {
      "cell_type": "code",
      "source": [
        "# Teste denovao\n"
      ],
      "metadata": {
        "id": "k_w5oHnGU6Di"
      },
      "id": "k_w5oHnGU6Di",
      "execution_count": 1,
      "outputs": []
    }
  ],
  "metadata": {
    "kernelspec": {
      "display_name": "Python 3 (ipykernel)",
      "language": "python",
      "name": "python3"
    },
    "language_info": {
      "codemirror_mode": {
        "name": "ipython",
        "version": 3
      },
      "file_extension": ".py",
      "mimetype": "text/x-python",
      "name": "python",
      "nbconvert_exporter": "python",
      "pygments_lexer": "ipython3",
      "version": "3.9.13"
    },
    "colab": {
      "provenance": []
    }
  },
  "nbformat": 4,
  "nbformat_minor": 5
}